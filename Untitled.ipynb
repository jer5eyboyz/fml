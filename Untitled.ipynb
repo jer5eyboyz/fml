{
 "cells": [
  {
   "cell_type": "code",
   "execution_count": 29,
   "metadata": {
    "collapsed": false
   },
   "outputs": [
    {
     "data": {
      "text/plain": [
       "(5926, 121)"
      ]
     },
     "execution_count": 29,
     "metadata": {},
     "output_type": "execute_result"
    }
   ],
   "source": [
    "import pickle \n",
    "import pandas as pd\n",
    "from sklearn.model_selection import cross_val_score\n",
    "\n",
    "\n",
    "data = pd.read_pickle('2010_2017_original_sample.p')\n",
    "\n",
    "Y = data['class'].values\n",
    "data = data.drop(['class'],axis=1) \n",
    "X = data.values\n",
    "\n",
    "data.shape"
   ]
  },
  {
   "cell_type": "code",
   "execution_count": 30,
   "metadata": {
    "collapsed": false
   },
   "outputs": [
    {
     "name": "stdout",
     "output_type": "stream",
     "text": [
      "original LogisticRegression L1\n",
      "train score 0.789157014157\n",
      "std 0.00792756470102\n",
      "test score 0.794197031039\n"
     ]
    }
   ],
   "source": [
    "from sklearn.cross_validation import train_test_split\n",
    "from sklearn.linear_model import LogisticRegression\n",
    "\n",
    "X_train, X_test, Y_train, Y_test = train_test_split(X, Y)\n",
    "\n",
    "\n",
    "clf = LogisticRegression(C=1.0, penalty='l1')\n",
    "####original####\n",
    "clf.fit(X_train,Y_train)\n",
    "Ascores_Train = cross_val_score(clf, X_train, Y_train, cv=5)\n",
    "Ascores_Test = clf.score(X_test,Y_test)\n",
    "\n",
    "print (\"original LogisticRegression L1\")\n",
    "print('train score',Ascores_Train.mean()) \n",
    "print('std',Ascores_Train.std()) \n",
    "print('test score',Ascores_Test)"
   ]
  }
 ],
 "metadata": {
  "kernelspec": {
   "display_name": "Python 3",
   "language": "python",
   "name": "python3"
  },
  "language_info": {
   "codemirror_mode": {
    "name": "ipython",
    "version": 3
   },
   "file_extension": ".py",
   "mimetype": "text/x-python",
   "name": "python",
   "nbconvert_exporter": "python",
   "pygments_lexer": "ipython3",
   "version": "3.6.0"
  }
 },
 "nbformat": 4,
 "nbformat_minor": 2
}
